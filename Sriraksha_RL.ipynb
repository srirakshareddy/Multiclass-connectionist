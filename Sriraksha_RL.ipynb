{
  "cells": [
    {
      "cell_type": "markdown",
      "metadata": {
        "id": "view-in-github",
        "colab_type": "text"
      },
      "source": [
        "<a href=\"https://colab.research.google.com/github/srirakshareddy/Multiclass-connectionist/blob/main/Sriraksha_RL.ipynb\" target=\"_parent\"><img src=\"https://colab.research.google.com/assets/colab-badge.svg\" alt=\"Open In Colab\"/></a>"
      ]
    },
    {
      "cell_type": "markdown",
      "metadata": {
        "id": "MdMsITPz_l5f"
      },
      "source": [
        "### Class Perceptron"
      ]
    },
    {
      "cell_type": "code",
      "execution_count": null,
      "metadata": {
        "id": "Uqz0dH6a_l5g"
      },
      "outputs": [],
      "source": [
        "import numpy as np\n",
        "from matplotlib import pyplot as plt\n",
        "\n",
        "# Creating a Perceptron class\n",
        "class Perceptron:\n",
        "\n",
        "    #initializing perceptron\n",
        "    def __init__(self, neurons, epochs, x_train_data, x_test_data, y_train_data, y_test_data, eta, num_training, num_testing):\n",
        "        #Number of input neurons\n",
        "        self.neurons = neurons \n",
        "        self.bias = 0\n",
        "        #Number of epochs\n",
        "        self.epochs = epochs \n",
        "        #Learning rate\n",
        "        self.eta = eta \n",
        "        #Error difference between predicted value and generated value\n",
        "        self.ee = np.zeros(num_training) \n",
        "        #Mean squared error for plotting the graph\n",
        "        self.mse = np.zeros(self.epochs) \n",
        "        self.weight = np.zeros(neurons) #initial weight\n",
        "        #Number of training samples\n",
        "        self.num_training = num_training \n",
        "        #Number of testing samples\n",
        "        self.num_testing = num_testing \n",
        "        #Keeping track of total testing error\n",
        "        self.error_points = 0 \n",
        "        \n",
        "        #Training and testing data\n",
        "        self.x_train_data = x_train_data\n",
        "        self.x_test_data = x_test_data\n",
        "        \n",
        "        self.y_train_data = y_train_data\n",
        "        self.y_test_data = y_test_data\n",
        "\n",
        "    #Returning the output of activation function\n",
        "    def activation_func(self, x):\n",
        "        y = np.transpose(self.weight).dot(x) + self.bias\n",
        "        \n",
        "        #Sigmoid function\n",
        "        y = 1/(1 + np.exp(-y))\n",
        "\n",
        "        if y == 1:\n",
        "            return 1\n",
        "        elif y < 1:\n",
        "            return 0\n",
        "        else:\n",
        "            return 2\n",
        "\n",
        "\n",
        "    #Learning through the number of traing samples\n",
        "    def fit(self): \n",
        "\n",
        "        for e in range(self.epochs):\n",
        "\n",
        "            for i in range(self.num_training):\n",
        "                #Fetch data\n",
        "                x = self.x_train_data[i, 0:self.neurons]\n",
        "\n",
        "                #Fetch desired output from dataset\n",
        "                d = self.y_train_data[i]\n",
        "\n",
        "                #Activation function\n",
        "                y = self.activation_func(x)\n",
        "\n",
        "                #Calculate difference\n",
        "                self.ee[i] = d - y\n",
        "\n",
        "                #New weight\n",
        "                new_weight = self.weight + x.dot(self.ee[i] * self.eta)\n",
        "\n",
        "                #Skipping to next epoch if the weights are similar\n",
        "                if new_weight[i] == self.weight[i]: \n",
        "                    break\n",
        "                \n",
        "                #Otherwise setting the new weight as current weight\n",
        "                self.weight = new_weight\n",
        "\n",
        "            #Calculate mean squared error for each epoch\n",
        "            self.mse[e] = np.square(self.ee).mean()\n",
        "\n",
        "        training_accuracy = 100 - ((self.ee[self.num_training - 1]/self.num_training) * 100)\n",
        "        print(f'Total samples trained: {self.num_training}')\n",
        "        print(f'Training accuracy: {training_accuracy}%')\n",
        "        print(f'Total epochs: {self.epochs}')\n",
        "\n",
        "\n",
        "    #Graph of learning curve against mean squared error\n",
        "    def plot_fit(self):\n",
        "        plt.xlabel('Epochs')\n",
        "        plt.ylabel('Mean squared error (mse)')\n",
        "        plt.title('Training accuracy')\n",
        "        plt.plot(self.mse)\n",
        "        plt.show()\n",
        "\n",
        "    \n",
        "    #Predict and calulate testing accuracy\n",
        "    def predict(self): \n",
        "        \n",
        "        for i in range(self.num_testing):\n",
        "            #Fetch data\n",
        "            x = self.x_test_data[i, 0:self.neurons]\n",
        "\n",
        "            #Activation function\n",
        "            y = self.activation_func(x)\n",
        "\n",
        "            #Calculate error points\n",
        "            if y!=self.y_test_data[i]:\n",
        "                self.error_points += 1\n",
        "\n",
        "        #Calculate testing accuracy\n",
        "        testing_accuracy = 100 - ((self.error_points/self.num_testing) * 100)\n",
        "\n",
        "        print(f'Total samples tested: {self.num_testing}')\n",
        "        print(f'Total errror points: {self.error_points}')\n",
        "        print(f'Testing accuracy: {testing_accuracy:.2f}%')\n",
        "        "
      ]
    },
    {
      "cell_type": "markdown",
      "metadata": {
        "id": "JQ0XHWFE_l5j"
      },
      "source": [
        "### Main method to load Iris dataset and create instance of Perceptron class"
      ]
    },
    {
      "cell_type": "code",
      "execution_count": null,
      "metadata": {
        "colab": {
          "base_uri": "https://localhost:8080/",
          "height": 402
        },
        "id": "PRT1WJR8_l5k",
        "outputId": "7bf2a6f8-e01a-42de-8e3d-74cea9787cc3"
      },
      "outputs": [
        {
          "output_type": "stream",
          "name": "stdout",
          "text": [
            "Total samples trained: 100\n",
            "Training accuracy: 100.0%\n",
            "Total epochs: 150\n"
          ]
        },
        {
          "output_type": "display_data",
          "data": {
            "image/png": "[encoded data removed]",
            "text/plain": [
              "<Figure size 432x288 with 1 Axes>"
            ]
          },
          "metadata": {
            "needs_background": "light"
          }
        },
        {
          "output_type": "stream",
          "name": "stdout",
          "text": [
            "Total samples tested: 50\n",
            "Total errror points: 16\n",
            "Testing accuracy: 68.00%\n"
          ]
        }
      ],
      "source": [
        "from sklearn.datasets import load_iris\n",
        "from sklearn.model_selection import train_test_split\n",
        "\n",
        "if __name__ == '__main__':\n",
        "    \n",
        "    #Load the iris data\n",
        "    X,y = load_iris(return_X_y=True)\n",
        "    \n",
        "    #Separate train and test data\n",
        "    X_train, X_test, y_train, y_test = train_test_split(X, y, test_size=0.33, random_state=42)\n",
        "\n",
        "    num_training = X_train.shape[0] # number of training data\n",
        "    num_testing = X_test.shape[0]  # number of testing data\n",
        "    epochs = 150 # number of epochs to iterate\n",
        "\n",
        "    #Initialize Perceptron variables\n",
        "    neurons = X_train.shape[1] # number of input neurons\n",
        "    eta = 0.1 #learning rate\n",
        "\n",
        "\n",
        "    #Initialize Perceptron network\n",
        "    perceptron = Perceptron(neurons, epochs, X_train, X_test, y_train, y_test, eta, num_training, num_testing)\n",
        "\n",
        "    #Train the perceptron\n",
        "    perceptron.fit()\n",
        "\n",
        "    #Plot training data\n",
        "    perceptron.plot_fit()\n",
        "\n",
        "    #Test the perceptron\n",
        "    perceptron.predict()"
      ]
    },
    {
      "cell_type": "code",
      "execution_count": null,
      "metadata": {
        "id": "mpZw4veQ_l5l"
      },
      "outputs": [],
      "source": []
    }
  ],
  "metadata": {
    "kernelspec": {
      "display_name": "Python 3",
      "language": "python",
      "name": "python3"
    },
    "language_info": {
      "codemirror_mode": {
        "name": "ipython",
        "version": 3
      },
      "file_extension": ".py",
      "mimetype": "text/x-python",
      "name": "python",
      "nbconvert_exporter": "python",
      "pygments_lexer": "ipython3",
      "version": "3.8.3"
    },
    "colab": {
      "provenance": [],
      "toc_visible": true,
      "include_colab_link": true
    }
  },
  "nbformat": 4,
  "nbformat_minor": 0
}